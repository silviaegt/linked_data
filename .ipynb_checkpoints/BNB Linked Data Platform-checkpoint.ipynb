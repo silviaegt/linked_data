{
 "cells": [
  {
   "cell_type": "code",
   "execution_count": 1,
   "metadata": {},
   "outputs": [],
   "source": [
    "#Gracias a Gustavo Candela por toda la asesoría\n",
    "bnbIdAuthor = 'http://bnb.data.bl.uk/id/person/WoolfVirginia1882-1941'"
   ]
  },
  {
   "cell_type": "code",
   "execution_count": 1,
   "metadata": {},
   "outputs": [],
   "source": [
    "import folium #instrucciones para cargar: https://anaconda.org/conda-forge/folium (los demás están en anaconda)\n",
    "import requests\n",
    "import pandas as pd\n",
    "import json\n",
    "import csv\n",
    "import matplotlib.pyplot as plt\n",
    "from pandas.io.json import json_normalize  "
   ]
  },
  {
   "cell_type": "code",
   "execution_count": 3,
   "metadata": {},
   "outputs": [
    {
     "name": "stdout",
     "output_type": "stream",
     "text": [
      "¡Ya tengo los elementos!\n"
     ]
    }
   ],
   "source": [
    "url = 'https://bnb.data.bl.uk/sparql'\n",
    "\n",
    "query = \"\"\"\n",
    "PREFIX blt: <http://www.bl.uk/schemas/bibliographic/blterms#>\n",
    "PREFIX dct: <http://purl.org/dc/terms/>\n",
    "PREFIX schema: <http://schema.org/>\n",
    "PREFIX c4dm: <http://purl.org/NET/c4dm/event.owl#>\n",
    "\n",
    "SELECT DISTINCT ?resource ?title ?date ?place WHERE {{\n",
    "   graph <http://bnb.data.bl.uk/id/graph/BNBCIP> {{\n",
    "      ?resource ?p <{0}> ;\n",
    "         dct:title ?title ;\n",
    "         schema:datePublished ?date .\n",
    "      OPTIONAL {{\n",
    "          ?resource blt:projectedPublication ?publication .\n",
    "          ?publication c4dm:place ?place .\n",
    "          FILTER regex(?place, \"geonames\", \"i\")        \n",
    "      }}\n",
    "      OPTIONAL {{\n",
    "          ?resource blt:publication ?publication .\n",
    "          ?publication c4dm:place ?place .\n",
    "          FILTER regex(?place, \"geonames\", \"i\")        \n",
    "      }}\n",
    "   }}\n",
    "}} LIMIT 500\n",
    "\"\"\"\n",
    "\n",
    "query = query.format(bnbIdAuthor) #aquí se pone el autor\n",
    "\n",
    "# Usamos un json como salida\n",
    "headers = {'Accept': 'application/sparql-results+json'}\n",
    "r = requests.get(url, params = {'format': 'application/sparql-results+json', 'query': query}, headers=headers)\n",
    "print('¡Ya tengo los elementos!')"
   ]
  },
  {
   "cell_type": "code",
   "execution_count": 5,
   "metadata": {},
   "outputs": [
    {
     "data": {
      "text/plain": [
       "'\\n{ \"head\": { \"link\": [], \"vars\": [\"resource\", \"title\", \"date\", \"place\"] },\\n  \"results\": { \"distinct\": false, \"ordered\": true, \"bindings\": [\\n    { \"resource\": { \"type\": \"uri\", \"value\": \"http://bnb.data.bl.uk/id/resource/013001764\" }\\t, \"title\": { \"type\": \"literal\", \"value\": \"The years\" }\\t, \"date\": { \"type\": \"literal\", \"value\": \"2004-12\" }\\t, \"place\": { \"type\": \"uri\", \"value\": \"http://sws.geonames.org/6269131/\" }},\\n    { \"resource\": { \"type\": \"uri\", \"value\": \"http://bnb.data.bl.uk/id/resource/019599487\" }\\t, \"title\": { \"type\": \"literal\", \"value\": \"Mrs Dalloway\" }\\t, \"date\": { \"type\": \"literal\", \"value\": \"2020-01\" }\\t, \"place\": { \"type\": \"uri\", \"value\": \"http://sws.geonames.org/6269131/\" }},\\n    { \"resource\": { \"type\": \"uri\", \"value\": \"http://bnb.data.bl.uk/id/resource/017816985\" }\\t, \"title\": { \"type\": \"literal\", \"value\": \"Mrs Dalloway\" }\\t, \"date\": { \"type\": \"literal\", \"value\": \"2016-05\" }\\t, \"place\": { \"type\": \"uri\", \"value\": \"http://sws.geonames.org/6269131/\" }},\\n    { \"resource\": { \"type\": \"uri\", \"value\": \"http://bnb.data.bl.uk/id/resource/015711457\" }\\t, \"title\": { \"type\": \"literal\", \"value\": \"Mrs Dalloway\" }\\t, \"date\": { \"type\": \"literal\", \"value\": \"2011-04\" }\\t, \"place\": { \"type\": \"uri\", \"value\": \"http://sws.geonames.org/6252001/\" }},\\n    { \"resource\": { \"type\": \"uri\", \"value\": \"http://bnb.data.bl.uk/id/resource/018460540\" }\\t, \"title\": { \"type\": \"literal\", \"value\": \"Orlando\" }\\t, \"date\": { \"type\": \"literal\", \"value\": \"2017-10\" }\\t, \"place\": { \"type\": \"uri\", \"value\": \"http://sws.geonames.org/6269131/\" }},\\n    { \"resource\": { \"type\": \"uri\", \"value\": \"http://bnb.data.bl.uk/id/resource/018460544\" }\\t, \"title\": { \"type\": \"literal\", \"value\": \"A room of one\\'s own\" }\\t, \"date\": { \"type\": \"literal\", \"value\": \"2017-10\" }\\t, \"place\": { \"type\": \"uri\", \"value\": \"http://sws.geonames.org/6269131/\" }},\\n    { \"resource\": { \"type\": \"uri\", \"value\": \"http://bnb.data.bl.uk/id/resource/018460549\" }\\t, \"title\": { \"type\": \"literal\", \"value\": \"Mrs Dalloway\" }\\t, \"date\": { \"type\": \"literal\", \"value\": \"2017-10\" }\\t, \"place\": { \"type\": \"uri\", \"value\": \"http://sws.geonames.org/6269131/\" }},\\n    { \"resource\": { \"type\": \"uri\", \"value\": \"http://bnb.data.bl.uk/id/resource/018460551\" }\\t, \"title\": { \"type\": \"literal\", \"value\": \"To the lighthouse\" }\\t, \"date\": { \"type\": \"literal\", \"value\": \"2017-10\" }\\t, \"place\": { \"type\": \"uri\", \"value\": \"http://sws.geonames.org/6269131/\" }},\\n    { \"resource\": { \"type\": \"uri\", \"value\": \"http://bnb.data.bl.uk/id/resource/018462175\" }\\t, \"title\": { \"type\": \"literal\", \"value\": \"The illustrated letters of Virginia Woolf\" }\\t, \"date\": { \"type\": \"literal\", \"value\": \"2017-10\" }\\t, \"place\": { \"type\": \"uri\", \"value\": \"http://sws.geonames.org/6269131/\" }},\\n    { \"resource\": { \"type\": \"uri\", \"value\": \"http://bnb.data.bl.uk/id/resource/018463437\" }\\t, \"title\": { \"type\": \"literal\", \"value\": \"Monday or Tuesday\" }\\t, \"date\": { \"type\": \"literal\", \"value\": \"2017-08\" }\\t, \"place\": { \"type\": \"uri\", \"value\": \"http://sws.geonames.org/6252001/\" }},\\n    { \"resource\": { \"type\": \"uri\", \"value\": \"http://bnb.data.bl.uk/id/resource/019345275\" }\\t, \"title\": { \"type\": \"literal\", \"value\": \"A room of one\\'s own\" }\\t, \"date\": { \"type\": \"literal\", \"value\": \"2019-06\" }\\t, \"place\": { \"type\": \"uri\", \"value\": \"http://sws.geonames.org/6269131/\" }},\\n    { \"resource\": { \"type\": \"uri\", \"value\": \"http://bnb.data.bl.uk/id/resource/019428998\" }\\t, \"title\": { \"type\": \"literal\", \"value\": \"Flush\" }\\t, \"date\": { \"type\": \"literal\", \"value\": \"2019-08\" }\\t, \"place\": { \"type\": \"uri\", \"value\": \"http://sws.geonames.org/6269131/\" }},\\n    { \"resource\": { \"type\": \"uri\", \"value\": \"http://bnb.data.bl.uk/id/resource/019701723\" }\\t, \"title\": { \"type\": \"literal\", \"value\": \"Jacob\\'s room\" }\\t, \"date\": { \"type\": \"literal\", \"value\": \"2020-04\" }\\t, \"place\": { \"type\": \"uri\", \"value\": \"http://sws.geonames.org/6269131/\" }},\\n    { \"resource\": { \"type\": \"uri\", \"value\": \"http://bnb.data.bl.uk/id/resource/018827821\" }\\t, \"title\": { \"type\": \"literal\", \"value\": \"Mrs Dalloway\" }\\t, \"date\": { \"type\": \"literal\", \"value\": \"2018-06\" }\\t, \"place\": { \"type\": \"uri\", \"value\": \"http://sws.geonames.org/6269131/\" }},\\n    { \"resource\": { \"type\": \"uri\", \"value\": \"http://bnb.data.bl.uk/id/resource/018827843\" }\\t, \"title\": { \"type\": \"literal\", \"value\": \"To the lighthouse\" }\\t, \"date\": { \"type\": \"literal\", \"value\": \"2018-06\" }\\t, \"place\": { \"type\": \"uri\", \"value\": \"http://sws.geonames.org/6269131/\" }},\\n    { \"resource\": { \"type\": \"uri\", \"value\": \"http://bnb.data.bl.uk/id/resource/018832597\" }\\t, \"title\": { \"type\": \"literal\", \"value\": \"A room of one\\'s own\" }\\t, \"date\": { \"type\": \"literal\", \"value\": \"2018-06\" }\\t, \"place\": { \"type\": \"uri\", \"value\": \"http://sws.geonames.org/6269131/\" }},\\n    { \"resource\": { \"type\": \"uri\", \"value\": \"http://bnb.data.bl.uk/id/resource/012936730\" }\\t, \"title\": { \"type\": \"literal\", \"value\": \"A room of one\\'s own\" }\\t, \"date\": { \"type\": \"literal\", \"value\": \"2004-09\" }\\t, \"place\": { \"type\": \"uri\", \"value\": \"http://sws.geonames.org/6269131/\" }},\\n    { \"resource\": { \"type\": \"uri\", \"value\": \"http://bnb.data.bl.uk/id/resource/016530866\" }\\t, \"title\": { \"type\": \"literal\", \"value\": \"Virginia Woolf : selected novels\" }\\t, \"date\": { \"type\": \"literal\", \"value\": \"2014-01\" }\\t, \"place\": { \"type\": \"uri\", \"value\": \"http://sws.geonames.org/6269131/\" }},\\n    { \"resource\": { \"type\": \"uri\", \"value\": \"http://bnb.data.bl.uk/id/resource/006890884\" }\\t, \"title\": { \"type\": \"literal\", \"value\": \"Night and day\" }\\t, \"date\": { \"type\": \"literal\", \"value\": \"2002-06\" }\\t, \"place\": { \"type\": \"uri\", \"value\": \"http://sws.geonames.org/6252001/\" }},\\n    { \"resource\": { \"type\": \"uri\", \"value\": \"http://bnb.data.bl.uk/id/resource/016094837\" }\\t, \"title\": { \"type\": \"literal\", \"value\": \"Virginia Woolf : selected novels\" }\\t, \"date\": { \"type\": \"literal\", \"value\": \"2012-09\" }\\t, \"place\": { \"type\": \"uri\", \"value\": \"http://sws.geonames.org/6269131/\" }},\\n    { \"resource\": { \"type\": \"uri\", \"value\": \"http://bnb.data.bl.uk/id/resource/018519568\" }\\t, \"title\": { \"type\": \"literal\", \"value\": \"Between the acts\" }\\t, \"date\": { \"type\": \"literal\", \"value\": \"2017-07\" }\\t, \"place\": { \"type\": \"uri\", \"value\": \"http://sws.geonames.org/6269131/\" }},\\n    { \"resource\": { \"type\": \"uri\", \"value\": \"http://bnb.data.bl.uk/id/resource/018934357\" }\\t, \"title\": { \"type\": \"literal\", \"value\": \"Virginia Woolf in Richmond\" }\\t, \"date\": { \"type\": \"literal\", \"value\": \"2018-09\" }\\t, \"place\": { \"type\": \"uri\", \"value\": \"http://sws.geonames.org/6269131/\" }},\\n    { \"resource\": { \"type\": \"uri\", \"value\": \"http://bnb.data.bl.uk/id/resource/018009117\" }\\t, \"title\": { \"type\": \"literal\", \"value\": \"Selected diaries\" }\\t, \"date\": { \"type\": \"literal\", \"value\": \"2016-10\" }\\t, \"place\": { \"type\": \"uri\", \"value\": \"http://sws.geonames.org/6269131/\" }},\\n    { \"resource\": { \"type\": \"uri\", \"value\": \"http://bnb.data.bl.uk/id/resource/019242375\" }\\t, \"title\": { \"type\": \"literal\", \"value\": \"The years\" }\\t, \"date\": { \"type\": \"literal\", \"value\": \"2019-04\" }\\t, \"place\": { \"type\": \"uri\", \"value\": \"http://sws.geonames.org/6269131/\" }},\\n    { \"resource\": { \"type\": \"uri\", \"value\": \"http://bnb.data.bl.uk/id/resource/019280192\" }\\t, \"title\": { \"type\": \"literal\", \"value\": \"Between the acts\" }\\t, \"date\": { \"type\": \"literal\", \"value\": \"2019-05\" }\\t, \"place\": { \"type\": \"uri\", \"value\": \"http://sws.geonames.org/6269131/\" }},\\n    { \"resource\": { \"type\": \"uri\", \"value\": \"http://bnb.data.bl.uk/id/resource/019280193\" }\\t, \"title\": { \"type\": \"literal\", \"value\": \"Selected short stories\" }\\t, \"date\": { \"type\": \"literal\", \"value\": \"2019-05\" }\\t, \"place\": { \"type\": \"uri\", \"value\": \"http://sws.geonames.org/6269131/\" }},\\n    { \"resource\": { \"type\": \"uri\", \"value\": \"http://bnb.data.bl.uk/id/resource/019242373\" }\\t, \"title\": { \"type\": \"literal\", \"value\": \"Mrs Dalloway\" }\\t, \"date\": { \"type\": \"literal\", \"value\": \"2019-04\" }\\t, \"place\": { \"type\": \"uri\", \"value\": \"http://sws.geonames.org/6269131/\" }},\\n    { \"resource\": { \"type\": \"uri\", \"value\": \"http://bnb.data.bl.uk/id/resource/019635379\" }\\t, \"title\": { \"type\": \"literal\", \"value\": \"Mrs. Dalloway\" }\\t, \"date\": { \"type\": \"literal\", \"value\": \"2020-02\" }\\t, \"place\": { \"type\": \"uri\", \"value\": \"http://sws.geonames.org/6252001/\" }},\\n    { \"resource\": { \"type\": \"uri\", \"value\": \"http://bnb.data.bl.uk/id/resource/019049782\" }\\t, \"title\": { \"type\": \"literal\", \"value\": \"A passionate apprentice : the early journals 1897-1909\" }\\t, \"date\": { \"type\": \"literal\", \"value\": \"2018-11\" }\\t, \"place\": { \"type\": \"uri\", \"value\": \"http://sws.geonames.org/6269131/\" }},\\n    { \"resource\": { \"type\": \"uri\", \"value\": \"http://bnb.data.bl.uk/id/resource/019394492\" }\\t, \"title\": { \"type\": \"literal\", \"value\": \"Night and day\" }\\t, \"date\": { \"type\": \"literal\", \"value\": \"2019-07\" }\\t, \"place\": { \"type\": \"uri\", \"value\": \"http://sws.geonames.org/6252001/\" }},\\n    { \"resource\": { \"type\": \"uri\", \"value\": \"http://bnb.data.bl.uk/id/resource/019201393\" }\\t, \"title\": { \"type\": \"literal\", \"value\": \"Orlando\" }\\t, \"date\": { \"type\": \"literal\", \"value\": \"2019-03\" }\\t, \"place\": { \"type\": \"uri\", \"value\": \"http://sws.geonames.org/6269131/\" }},\\n    { \"resource\": { \"type\": \"uri\", \"value\": \"http://bnb.data.bl.uk/id/resource/019201394\" }\\t, \"title\": { \"type\": \"literal\", \"value\": \"A room of one\\'s own ; and, Three guineas\" }\\t, \"date\": { \"type\": \"literal\", \"value\": \"2019-03\" }\\t, \"place\": { \"type\": \"uri\", \"value\": \"http://sws.geonames.org/6269131/\" }},\\n    { \"resource\": { \"type\": \"uri\", \"value\": \"http://bnb.data.bl.uk/id/resource/019529568\" }\\t, \"title\": { \"type\": \"literal\", \"value\": \"Genius and ink : Virginia Woolf on how to read\" }\\t, \"date\": { \"type\": \"literal\", \"value\": \"2019-11\" }\\t, \"place\": { \"type\": \"uri\", \"value\": \"http://sws.geonames.org/6269131/\" }},\\n    { \"resource\": { \"type\": \"uri\", \"value\": \"http://bnb.data.bl.uk/id/resource/019664287\" }\\t, \"title\": { \"type\": \"literal\", \"value\": \"Mrs Dalloway\" }\\t, \"date\": { \"type\": \"literal\", \"value\": \"2020-03\" }\\t, \"place\": { \"type\": \"uri\", \"value\": \"http://sws.geonames.org/6269131/\" }},\\n    { \"resource\": { \"type\": \"uri\", \"value\": \"http://bnb.data.bl.uk/id/resource/019664288\" }\\t, \"title\": { \"type\": \"literal\", \"value\": \"A room of one\\'s own\" }\\t, \"date\": { \"type\": \"literal\", \"value\": \"2020-03\" }\\t, \"place\": { \"type\": \"uri\", \"value\": \"http://sws.geonames.org/6269131/\" }},\\n    { \"resource\": { \"type\": \"uri\", \"value\": \"http://bnb.data.bl.uk/id/resource/019664289\" }\\t, \"title\": { \"type\": \"literal\", \"value\": \"Orlando\" }\\t, \"date\": { \"type\": \"literal\", \"value\": \"2020-03\" }\\t, \"place\": { \"type\": \"uri\", \"value\": \"http://sws.geonames.org/6269131/\" }} ] } }'"
      ]
     },
     "execution_count": 5,
     "metadata": {},
     "output_type": "execute_result"
    }
   ],
   "source": [
    "r.text #revisando que sí se descargó el json con la información que requeríamos"
   ]
  },
  {
   "cell_type": "code",
   "execution_count": 7,
   "metadata": {},
   "outputs": [],
   "source": [
    "bnbdata = json.loads(r.text) #aquí cargamos nuestros datos a bnbdata\n",
    "\n",
    "with open('bnb_records_virginia.csv', 'w', newline='') as file:\n",
    "    csv_out = csv.writer(file, delimiter = ',', quotechar = '\"', quoting = csv.QUOTE_MINIMAL)    \n",
    "    csv_out.writerow(['resource', 'place', 'title', 'date'])\n",
    "\n",
    "    for i in bnbdata['results']['bindings']:\n",
    "        #print(i['place']['value'])\n",
    "        resource = place = title = date =''\n",
    "        resource = i['resource']['value']\n",
    "        place = i['place']['value']\n",
    "        title = i['title']['value']\n",
    "        date = i['date']['value']\n",
    "\n",
    "        csv_out.writerow([resource,place,title,date])"
   ]
  },
  {
   "cell_type": "code",
   "execution_count": 2,
   "metadata": {},
   "outputs": [],
   "source": [
    "df = pd.read_csv('bnb_records_virginia.csv')"
   ]
  },
  {
   "cell_type": "code",
   "execution_count": 3,
   "metadata": {},
   "outputs": [
    {
     "name": "stdout",
     "output_type": "stream",
     "text": [
      "<class 'pandas.core.frame.DataFrame'>\n",
      "RangeIndex: 36 entries, 0 to 35\n",
      "Data columns (total 4 columns):\n",
      " #   Column    Non-Null Count  Dtype \n",
      "---  ------    --------------  ----- \n",
      " 0   resource  36 non-null     object\n",
      " 1   place     36 non-null     object\n",
      " 2   title     36 non-null     object\n",
      " 3   date      36 non-null     object\n",
      "dtypes: object(4)\n",
      "memory usage: 1.2+ KB\n"
     ]
    }
   ],
   "source": [
    "df.info()"
   ]
  },
  {
   "cell_type": "code",
   "execution_count": 5,
   "metadata": {},
   "outputs": [
    {
     "data": {
      "text/plain": [
       "resource    object\n",
       "place       object\n",
       "title       object\n",
       "date        object\n",
       "dtype: object"
      ]
     },
     "execution_count": 5,
     "metadata": {},
     "output_type": "execute_result"
    }
   ],
   "source": [
    "df.dtypes"
   ]
  },
  {
   "cell_type": "code",
   "execution_count": 10,
   "metadata": {},
   "outputs": [],
   "source": [
    "places_by_number = df.groupby(\"place\")[\"resource\"].count()"
   ]
  },
  {
   "cell_type": "code",
   "execution_count": 11,
   "metadata": {},
   "outputs": [
    {
     "data": {
      "text/plain": [
       "place\n",
       "http://sws.geonames.org/6252001/     5\n",
       "http://sws.geonames.org/6269131/    31\n",
       "Name: resource, dtype: int64"
      ]
     },
     "execution_count": 11,
     "metadata": {},
     "output_type": "execute_result"
    }
   ],
   "source": [
    "places_by_number"
   ]
  },
  {
   "cell_type": "code",
   "execution_count": 12,
   "metadata": {},
   "outputs": [
    {
     "data": {
      "text/plain": [
       "31"
      ]
     },
     "execution_count": 12,
     "metadata": {},
     "output_type": "execute_result"
    }
   ],
   "source": [
    "places_by_number[['http://sws.geonames.org/6269131/']][0]"
   ]
  },
  {
   "cell_type": "code",
   "execution_count": 14,
   "metadata": {},
   "outputs": [
    {
     "data": {
      "image/png": "[encoded data removed]",
      "text/plain": [
       "<Figure size 1008x576 with 1 Axes>"
      ]
     },
     "metadata": {
      "needs_background": "light"
     },
     "output_type": "display_data"
    }
   ],
   "source": [
    "ax = df['date'].value_counts().plot(kind='bar',\n",
    "                                    figsize=(14,8),\n",
    "                                    title=\"Número de publicaciones por fecha\") #¿cómo se podría ordenar esta gráfica por fecha?\n",
    "ax.set_xlabel(\"Fecha de publicación\")\n",
    "ax.set_ylabel(\"Número de publicaciones\")\n",
    "plt.show()"
   ]
  },
  {
   "cell_type": "code",
   "execution_count": 15,
   "metadata": {},
   "outputs": [],
   "source": [
    "df['year'] = pd.DatetimeIndex(df['date']).year"
   ]
  },
  {
   "cell_type": "code",
   "execution_count": 16,
   "metadata": {},
   "outputs": [],
   "source": [
    "df = df.sort_values('year')"
   ]
  },
  {
   "cell_type": "code",
   "execution_count": 17,
   "metadata": {},
   "outputs": [
    {
     "data": {
      "image/png": "[encoded data removed]",
      "text/plain": [
       "<Figure size 1008x576 with 1 Axes>"
      ]
     },
     "metadata": {
      "needs_background": "light"
     },
     "output_type": "display_data"
    }
   ],
   "source": [
    "ax = df['year'].value_counts().plot(kind='bar',\n",
    "                                    figsize=(14,8),\n",
    "                                    title=\"Número de publicaciones por año\")\n",
    "ax.set_xlabel(\"Fecha de publicación\")\n",
    "ax.set_ylabel(\"Número de publicaciones\")\n",
    "plt.show()"
   ]
  },
  {
   "cell_type": "code",
   "execution_count": 18,
   "metadata": {},
   "outputs": [
    {
     "name": "stdout",
     "output_type": "stream",
     "text": [
      "http://sws.geonames.org/6252001/\n",
      "http://sws.geonames.org/6269131/\n"
     ]
    }
   ],
   "source": [
    "# Obtener los lugares de publicación diferentes\n",
    "places = pd.unique(df['place']).tolist()\n",
    "strplaces = ''\n",
    "for a in sorted(places):\n",
    "    print(a)\n",
    "    strplaces = strplaces + ' \\\"' + a.replace(\"http://sws.geonames.org/\", \"\").replace(\"/\", \"\") + '\\\"'"
   ]
  },
  {
   "cell_type": "code",
   "execution_count": 19,
   "metadata": {},
   "outputs": [
    {
     "data": {
      "text/plain": [
       "' \"6252001\" \"6269131\"'"
      ]
     },
     "execution_count": 19,
     "metadata": {},
     "output_type": "execute_result"
    }
   ],
   "source": [
    "strplaces #obtener la lista de los ids de lugar"
   ]
  },
  {
   "cell_type": "code",
   "execution_count": 21,
   "metadata": {},
   "outputs": [],
   "source": [
    "url = 'https://query.wikidata.org/sparql'\n",
    "query = \"\"\"\n",
    "PREFIX bibo: <http://purl.org/ontology/bibo/>\n",
    "SELECT ?idgeonames ?lat ?lon ?x ?xLabel \n",
    "WHERE {{ \n",
    "  values ?idgeonames {{ {0} }} \n",
    "  ?x wdt:P1566 ?idgeonames ; \n",
    "   p:P625 [\n",
    "     psv:P625 [\n",
    "       wikibase:geoLatitude ?lat ;\n",
    "       wikibase:geoLongitude ?lon ;\n",
    "       wikibase:geoGlobe ?globe ;\n",
    "     ];\n",
    "     ps:P625 ?coord\n",
    "   ]\n",
    "   SERVICE wikibase:label {{ bd:serviceParam wikibase:language \"[AUTO_LANGUAGE],en\". }}\n",
    "}}\n",
    "\"\"\"\n",
    "\n",
    "query = query.format(strplaces) #aquí se metieron los ids únicos de geonames que en el paso anterior\n",
    "#print(query) #quitar comentario para ver la consulta (query)\n",
    "\n",
    "r = requests.get(url, params = {'format': 'json', 'query': query})\n",
    "geopoints = r.json()"
   ]
  },
  {
   "cell_type": "code",
   "execution_count": 22,
   "metadata": {},
   "outputs": [
    {
     "name": "stdout",
     "output_type": "stream",
     "text": [
      "53.0 -1.0\n",
      "39.828175 -98.5795\n"
     ]
    }
   ],
   "source": [
    "map = folium.Map(location=[0,0], zoom_start=1.5)\n",
    "\n",
    "for geo in geopoints['results']['bindings']:\n",
    "    idwikidata = geo['x']['value']\n",
    "    lat = geo['lat']['value']\n",
    "    lon = geo['lon']['value']\n",
    "    idgeonames = geo['idgeonames']['value']\n",
    "    label = geo['xLabel']['value']\n",
    "    print(lat, lon)\n",
    "    \n",
    "    # adding a text to the popup\n",
    "    count = places_by_number[['http://sws.geonames.org/' + idgeonames + '/']][0]\n",
    "    popup = str(count) + \" records published in <a hreh='\" + str(idwikidata) + \"'>\" + label + \"</a>\"\n",
    "    \n",
    "    folium.Marker([lat,lon], popup= popup).add_to(map)"
   ]
  },
  {
   "cell_type": "code",
   "execution_count": 23,
   "metadata": {},
   "outputs": [
    {
     "data": {
      "text/html": [
       "<div style=\"width:100%;\"><div style=\"position:relative;width:100%;height:0;padding-bottom:60%;\"><span style=\"color:#565656\">Make this Notebook Trusted to load map: File -> Trust Notebook</span><iframe src=\"about:blank\" style=\"position:absolute;width:100%;height:100%;left:0;top:0;border:none !important;\" data-html=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 onload=\"this.contentDocument.open();this.contentDocument.write(atob(this.getAttribute('data-html')));this.contentDocument.close();\" allowfullscreen webkitallowfullscreen mozallowfullscreen></iframe></div></div>"
      ],
      "text/plain": [
       "<folium.folium.Map at 0x1955a7a7a48>"
      ]
     },
     "execution_count": 23,
     "metadata": {},
     "output_type": "execute_result"
    }
   ],
   "source": [
    "map"
   ]
  }
 ],
 "metadata": {
  "kernelspec": {
   "display_name": "Python 3",
   "language": "python",
   "name": "python3"
  },
  "language_info": {
   "codemirror_mode": {
    "name": "ipython",
    "version": 3
   },
   "file_extension": ".py",
   "mimetype": "text/x-python",
   "name": "python",
   "nbconvert_exporter": "python",
   "pygments_lexer": "ipython3",
   "version": "3.7.6"
  }
 },
 "nbformat": 4,
 "nbformat_minor": 4
}
