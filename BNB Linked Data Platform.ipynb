{
 "cells": [
  {
   "cell_type": "code",
   "execution_count": 29,
   "metadata": {},
   "outputs": [],
   "source": [
    "#bnbIdAuthor = 'http://bnb.data.bl.uk/id/person/WoolfVirginia1882-1941'\n",
    "bnbIdAuthor = 'http://bnb.data.bl.uk/id/person/ShakespeareWilliam1564-1616'"
   ]
  },
  {
   "cell_type": "code",
   "execution_count": 30,
   "metadata": {},
   "outputs": [],
   "source": [
    "import folium #https://anaconda.org/conda-forge/folium\n",
    "import requests\n",
    "import pandas as pd\n",
    "import json\n",
    "import csv\n",
    "import matplotlib.pyplot as plt\n",
    "from pandas.io.json import json_normalize  "
   ]
  },
  {
   "cell_type": "code",
   "execution_count": 31,
   "metadata": {},
   "outputs": [
    {
     "name": "stdout",
     "output_type": "stream",
     "text": [
      "Elements retrieved!\n"
     ]
    }
   ],
   "source": [
    "url = 'https://bnb.data.bl.uk/sparql'\n",
    "\n",
    "#duda 1) no entiendo esta parte de la query: ?resource ?p <{0}>\n",
    "#duda 2) dct, schema, blt, c4dm, schema sí se usan, ¿es necesario poner todos los demás prefijos?\n",
    "#duda 3) ¿qué es query.format()?\n",
    "\n",
    "query = \"\"\"\n",
    "PREFIX bibo: <http://purl.org/ontology/bibo/>\n",
    "PREFIX bio: <http://purl.org/vocab/bio/0.1/>\n",
    "PREFIX blt: <http://www.bl.uk/schemas/bibliographic/blterms#>\n",
    "PREFIX dct: <http://purl.org/dc/terms/>\n",
    "PREFIX event: <http://purl.org/NET/c4dm/event.owl#>\n",
    "PREFIX foaf: <http://xmlns.com/foaf/0.1/>\n",
    "PREFIX geo: <http://www.w3.org/2003/01/geo/wgs84_pos#>\n",
    "PREFIX isbd: <http://iflastandards.info/ns/isbd/elements/>\n",
    "PREFIX org: <http://www.w3.org/ns/org#>\n",
    "PREFIX owl: <http://www.w3.org/2002/07/owl#>\n",
    "PREFIX rdau: <http://rdaregistry.info/Elements/u/>\n",
    "PREFIX madsrdf: <http://www.loc.gov/mads/rdf/v1#>\n",
    "PREFIX rdf: <http://www.w3.org/1999/02/22-rdf-syntax-ns#>\n",
    "PREFIX rdfs: <http://www.w3.org/2000/01/rdf-schema#>\n",
    "PREFIX skos: <http://www.w3.org/2004/02/skos/core#>\n",
    "PREFIX void: <http://rdfs.org/ns/void#>\n",
    "PREFIX xsd: <http://www.w3.org/2001/XMLSchema#>\n",
    "PREFIX umbel: <http://umbel.org/umbel#>\n",
    "PREFIX schema: <http://schema.org/>\n",
    "PREFIX c4dm: <http://purl.org/NET/c4dm/event.owl#>\n",
    "\n",
    "SELECT DISTINCT ?resource ?title ?date ?place WHERE {{\n",
    "   graph <http://bnb.data.bl.uk/id/graph/BNBCIP> {{\n",
    "      ?resource ?p <{0}> ;\n",
    "         dct:title ?title ;\n",
    "         schema:datePublished ?date .\n",
    "      OPTIONAL {{\n",
    "          ?resource blt:projectedPublication ?publication .\n",
    "          ?publication c4dm:place ?place .\n",
    "          FILTER regex(?place, \"geonames\", \"i\")        \n",
    "      }}\n",
    "      OPTIONAL {{\n",
    "          ?resource blt:publication ?publication .\n",
    "          ?publication c4dm:place ?place .\n",
    "          FILTER regex(?place, \"geonames\", \"i\")        \n",
    "      }}\n",
    "   }}\n",
    "}} LIMIT 500\n",
    "\"\"\"\n",
    "\n",
    "query = query.format(bnbIdAuthor) #aquí se pone el autor\n",
    "\n",
    "# use json as a result\n",
    "headers = {'Accept': 'application/sparql-results+json'}\n",
    "r = requests.get(url, params = {'format': 'application/sparql-results+json', 'query': query}, headers=headers)\n",
    "print('Elements retrieved!')"
   ]
  },
  {
   "cell_type": "code",
   "execution_count": 27,
   "metadata": {},
   "outputs": [
    {
     "data": {
      "text/plain": [
       "'\\nPREFIX bibo: <http://purl.org/ontology/bibo/>\\nPREFIX bio: <http://purl.org/vocab/bio/0.1/>\\nPREFIX blt: <http://www.bl.uk/schemas/bibliographic/blterms#>\\nPREFIX dct: <http://purl.org/dc/terms/>\\nPREFIX event: <http://purl.org/NET/c4dm/event.owl#>\\nPREFIX foaf: <http://xmlns.com/foaf/0.1/>\\nPREFIX geo: <http://www.w3.org/2003/01/geo/wgs84_pos#>\\nPREFIX isbd: <http://iflastandards.info/ns/isbd/elements/>\\nPREFIX org: <http://www.w3.org/ns/org#>\\nPREFIX owl: <http://www.w3.org/2002/07/owl#>\\nPREFIX rdau: <http://rdaregistry.info/Elements/u/>\\nPREFIX madsrdf: <http://www.loc.gov/mads/rdf/v1#>\\nPREFIX rdf: <http://www.w3.org/1999/02/22-rdf-syntax-ns#>\\nPREFIX rdfs: <http://www.w3.org/2000/01/rdf-schema#>\\nPREFIX skos: <http://www.w3.org/2004/02/skos/core#>\\nPREFIX void: <http://rdfs.org/ns/void#>\\nPREFIX xsd: <http://www.w3.org/2001/XMLSchema#>\\nPREFIX umbel: <http://umbel.org/umbel#>\\nPREFIX schema: <http://schema.org/>\\nPREFIX c4dm: <http://purl.org/NET/c4dm/event.owl#>\\n\\nSELECT DISTINCT ?resource ?title ?date ?place WHERE {\\n   graph <http://bnb.data.bl.uk/id/graph/BNBCIP> {\\n      ?resource ?p <http://bnb.data.bl.uk/id/person/WoolfVirginia1882-1941> ;\\n         dct:title ?title ;\\n         schema:datePublished ?date .\\n      OPTIONAL {\\n          ?resource blt:projectedPublication ?publication .\\n          ?publication c4dm:place ?place .\\n          FILTER regex(?place, \"geonames\", \"i\")        \\n      }\\n      OPTIONAL {\\n          ?resource blt:publication ?publication .\\n          ?publication c4dm:place ?place .\\n          FILTER regex(?place, \"geonames\", \"i\")        \\n      }\\n   }\\n} LIMIT 500\\n'"
      ]
     },
     "execution_count": 27,
     "metadata": {},
     "output_type": "execute_result"
    }
   ],
   "source": [
    "query"
   ]
  },
  {
   "cell_type": "code",
   "execution_count": 28,
   "metadata": {},
   "outputs": [],
   "source": [
    "bnbdata = json.loads(r.text)\n",
    "\n",
    "#csv_out = csv.writer(open('bnb_records_virginia.csv', 'w'), delimiter = ',', quotechar = '\"', quoting = csv.QUOTE_MINIMAL)\n",
    "csv_out = csv.writer(open('bnb_records.csv', 'w'), delimiter = ',', quotechar = '\"', quoting = csv.QUOTE_MINIMAL)\n",
    "\n",
    "csv_out.writerow(['resource', 'place', 'title', 'date'])\n",
    "\n",
    "for i in bnbdata['results']['bindings']:\n",
    "    resource = place = title = date =''\n",
    "    \n",
    "    resource = i['resource']['value']\n",
    "    place = i['place']['value']\n",
    "    title = i['title']['value']\n",
    "    date = i['date']['value']\n",
    "    \n",
    "    csv_out.writerow([resource,place,title,date])"
   ]
  },
  {
   "cell_type": "code",
   "execution_count": 32,
   "metadata": {},
   "outputs": [],
   "source": [
    "#df = pd.read_csv('bnb_records_virginia.csv')\n",
    "df = pd.read_csv('bnb_records.csv')"
   ]
  },
  {
   "cell_type": "code",
   "execution_count": 33,
   "metadata": {},
   "outputs": [
    {
     "data": {
      "text/html": [
       "<div>\n",
       "<style scoped>\n",
       "    .dataframe tbody tr th:only-of-type {\n",
       "        vertical-align: middle;\n",
       "    }\n",
       "\n",
       "    .dataframe tbody tr th {\n",
       "        vertical-align: top;\n",
       "    }\n",
       "\n",
       "    .dataframe thead th {\n",
       "        text-align: right;\n",
       "    }\n",
       "</style>\n",
       "<table border=\"1\" class=\"dataframe\">\n",
       "  <thead>\n",
       "    <tr style=\"text-align: right;\">\n",
       "      <th></th>\n",
       "      <th>resource</th>\n",
       "      <th>place</th>\n",
       "      <th>title</th>\n",
       "      <th>date</th>\n",
       "    </tr>\n",
       "  </thead>\n",
       "  <tbody>\n",
       "    <tr>\n",
       "      <th>0</th>\n",
       "      <td>http://bnb.data.bl.uk/id/resource/013310275</td>\n",
       "      <td>http://sws.geonames.org/6269131/</td>\n",
       "      <td>Macbeth : teachit KS3 interactive pack</td>\n",
       "      <td>2006-01</td>\n",
       "    </tr>\n",
       "    <tr>\n",
       "      <th>1</th>\n",
       "      <td>http://bnb.data.bl.uk/id/resource/013310276</td>\n",
       "      <td>http://sws.geonames.org/6269131/</td>\n",
       "      <td>Much ado about nothing : teachit KS3 interacti...</td>\n",
       "      <td>2006-01</td>\n",
       "    </tr>\n",
       "    <tr>\n",
       "      <th>2</th>\n",
       "      <td>http://bnb.data.bl.uk/id/resource/013315368</td>\n",
       "      <td>http://sws.geonames.org/6269131/</td>\n",
       "      <td>Hamlet</td>\n",
       "      <td>2006-01</td>\n",
       "    </tr>\n",
       "    <tr>\n",
       "      <th>3</th>\n",
       "      <td>http://bnb.data.bl.uk/id/resource/019599478</td>\n",
       "      <td>http://sws.geonames.org/6269131/</td>\n",
       "      <td>Twelfth night</td>\n",
       "      <td>2020-01</td>\n",
       "    </tr>\n",
       "    <tr>\n",
       "      <th>4</th>\n",
       "      <td>http://bnb.data.bl.uk/id/resource/019599479</td>\n",
       "      <td>http://sws.geonames.org/6269131/</td>\n",
       "      <td>The tempest : the alexander text</td>\n",
       "      <td>2019-11</td>\n",
       "    </tr>\n",
       "    <tr>\n",
       "      <th>...</th>\n",
       "      <td>...</td>\n",
       "      <td>...</td>\n",
       "      <td>...</td>\n",
       "      <td>...</td>\n",
       "    </tr>\n",
       "    <tr>\n",
       "      <th>122</th>\n",
       "      <td>http://bnb.data.bl.uk/id/resource/019702130</td>\n",
       "      <td>http://sws.geonames.org/6269131/</td>\n",
       "      <td>The tragedies</td>\n",
       "      <td>2020-01</td>\n",
       "    </tr>\n",
       "    <tr>\n",
       "      <th>123</th>\n",
       "      <td>http://bnb.data.bl.uk/id/resource/019702131</td>\n",
       "      <td>http://sws.geonames.org/6269131/</td>\n",
       "      <td>The tragicomedies</td>\n",
       "      <td>2020-01</td>\n",
       "    </tr>\n",
       "    <tr>\n",
       "      <th>124</th>\n",
       "      <td>http://bnb.data.bl.uk/id/resource/019755998</td>\n",
       "      <td>http://sws.geonames.org/6269131/</td>\n",
       "      <td>A midsummer night's dream</td>\n",
       "      <td>2020-06</td>\n",
       "    </tr>\n",
       "    <tr>\n",
       "      <th>125</th>\n",
       "      <td>http://bnb.data.bl.uk/id/resource/019736523</td>\n",
       "      <td>http://sws.geonames.org/6252001/</td>\n",
       "      <td>William Shakespeare comedies</td>\n",
       "      <td>2020-05</td>\n",
       "    </tr>\n",
       "    <tr>\n",
       "      <th>126</th>\n",
       "      <td>http://bnb.data.bl.uk/id/resource/019736524</td>\n",
       "      <td>http://sws.geonames.org/6252001/</td>\n",
       "      <td>William Shakespeare tragedies</td>\n",
       "      <td>2020-05</td>\n",
       "    </tr>\n",
       "  </tbody>\n",
       "</table>\n",
       "<p>127 rows × 4 columns</p>\n",
       "</div>"
      ],
      "text/plain": [
       "                                        resource  \\\n",
       "0    http://bnb.data.bl.uk/id/resource/013310275   \n",
       "1    http://bnb.data.bl.uk/id/resource/013310276   \n",
       "2    http://bnb.data.bl.uk/id/resource/013315368   \n",
       "3    http://bnb.data.bl.uk/id/resource/019599478   \n",
       "4    http://bnb.data.bl.uk/id/resource/019599479   \n",
       "..                                           ...   \n",
       "122  http://bnb.data.bl.uk/id/resource/019702130   \n",
       "123  http://bnb.data.bl.uk/id/resource/019702131   \n",
       "124  http://bnb.data.bl.uk/id/resource/019755998   \n",
       "125  http://bnb.data.bl.uk/id/resource/019736523   \n",
       "126  http://bnb.data.bl.uk/id/resource/019736524   \n",
       "\n",
       "                                place  \\\n",
       "0    http://sws.geonames.org/6269131/   \n",
       "1    http://sws.geonames.org/6269131/   \n",
       "2    http://sws.geonames.org/6269131/   \n",
       "3    http://sws.geonames.org/6269131/   \n",
       "4    http://sws.geonames.org/6269131/   \n",
       "..                                ...   \n",
       "122  http://sws.geonames.org/6269131/   \n",
       "123  http://sws.geonames.org/6269131/   \n",
       "124  http://sws.geonames.org/6269131/   \n",
       "125  http://sws.geonames.org/6252001/   \n",
       "126  http://sws.geonames.org/6252001/   \n",
       "\n",
       "                                                 title     date  \n",
       "0               Macbeth : teachit KS3 interactive pack  2006-01  \n",
       "1    Much ado about nothing : teachit KS3 interacti...  2006-01  \n",
       "2                                               Hamlet  2006-01  \n",
       "3                                        Twelfth night  2020-01  \n",
       "4                     The tempest : the alexander text  2019-11  \n",
       "..                                                 ...      ...  \n",
       "122                                      The tragedies  2020-01  \n",
       "123                                  The tragicomedies  2020-01  \n",
       "124                          A midsummer night's dream  2020-06  \n",
       "125                       William Shakespeare comedies  2020-05  \n",
       "126                      William Shakespeare tragedies  2020-05  \n",
       "\n",
       "[127 rows x 4 columns]"
      ]
     },
     "execution_count": 33,
     "metadata": {},
     "output_type": "execute_result"
    }
   ],
   "source": [
    "df"
   ]
  },
  {
   "cell_type": "code",
   "execution_count": 34,
   "metadata": {},
   "outputs": [],
   "source": [
    "places_by_number = df.groupby(\"place\")[\"resource\"].count()"
   ]
  },
  {
   "cell_type": "code",
   "execution_count": 35,
   "metadata": {},
   "outputs": [
    {
     "data": {
      "text/plain": [
       "place\n",
       "http://sws.geonames.org/1269750/     2\n",
       "http://sws.geonames.org/2921044/     9\n",
       "http://sws.geonames.org/6251999/     2\n",
       "http://sws.geonames.org/6252001/    30\n",
       "http://sws.geonames.org/6269131/    84\n",
       "Name: resource, dtype: int64"
      ]
     },
     "execution_count": 35,
     "metadata": {},
     "output_type": "execute_result"
    }
   ],
   "source": [
    "places_by_number"
   ]
  },
  {
   "cell_type": "code",
   "execution_count": 36,
   "metadata": {},
   "outputs": [
    {
     "data": {
      "text/plain": [
       "84"
      ]
     },
     "execution_count": 36,
     "metadata": {},
     "output_type": "execute_result"
    }
   ],
   "source": [
    "places_by_number[['http://sws.geonames.org/6269131/']][0]"
   ]
  },
  {
   "cell_type": "code",
   "execution_count": 55,
   "metadata": {},
   "outputs": [
    {
     "data": {
      "image/png": "[encoded data removed]",
      "text/plain": [
       "<Figure size 1008x576 with 1 Axes>"
      ]
     },
     "metadata": {
      "needs_background": "light"
     },
     "output_type": "display_data"
    }
   ],
   "source": [
    "ax = df['date'].value_counts().plot(kind='bar',\n",
    "                                    figsize=(14,8),\n",
    "                                    title=\"Número de publicaciones por fecha\") \n",
    "ax.set_xlabel(\"Fecha de publicación\")\n",
    "ax.set_ylabel(\"Número de publicaciones\")\n",
    "plt.show()"
   ]
  },
  {
   "cell_type": "code",
   "execution_count": 39,
   "metadata": {},
   "outputs": [],
   "source": [
    "df['year'] = pd.DatetimeIndex(df['date']).year"
   ]
  },
  {
   "cell_type": "code",
   "execution_count": 70,
   "metadata": {},
   "outputs": [],
   "source": [
    "df = df.sort_values('year')"
   ]
  },
  {
   "cell_type": "code",
   "execution_count": 71,
   "metadata": {},
   "outputs": [
    {
     "data": {
      "image/png": "[encoded data removed]",
      "text/plain": [
       "<Figure size 1008x576 with 1 Axes>"
      ]
     },
     "metadata": {
      "needs_background": "light"
     },
     "output_type": "display_data"
    }
   ],
   "source": [
    "ax = df['year'].value_counts().plot(kind='bar',\n",
    "                                    figsize=(14,8),\n",
    "                                    title=\"Número de publicaciones por año\") #duda 4) cómo se podrían ordenar por año?\n",
    "ax.set_xlabel(\"Fecha de publicación\")\n",
    "ax.set_ylabel(\"Número de publicaciones\")\n",
    "plt.show()"
   ]
  },
  {
   "cell_type": "code",
   "execution_count": 53,
   "metadata": {},
   "outputs": [],
   "source": []
  },
  {
   "cell_type": "code",
   "execution_count": 42,
   "metadata": {},
   "outputs": [
    {
     "name": "stdout",
     "output_type": "stream",
     "text": [
      "http://sws.geonames.org/1269750/\n",
      "http://sws.geonames.org/2921044/\n",
      "http://sws.geonames.org/6251999/\n",
      "http://sws.geonames.org/6252001/\n",
      "http://sws.geonames.org/6269131/\n"
     ]
    }
   ],
   "source": [
    "# Get unique values\n",
    "places = pd.unique(df['place']).tolist()\n",
    "strplaces = ''\n",
    "for a in sorted(places):\n",
    "    print(a)\n",
    "    strplaces = strplaces + ' \\\"' + a.replace(\"http://sws.geonames.org/\", \"\").replace(\"/\", \"\") + '\\\"'"
   ]
  },
  {
   "cell_type": "code",
   "execution_count": 48,
   "metadata": {},
   "outputs": [
    {
     "data": {
      "text/plain": [
       "' \"1269750\" \"2921044\" \"6251999\" \"6252001\" \"6269131\"'"
      ]
     },
     "execution_count": 48,
     "metadata": {},
     "output_type": "execute_result"
    }
   ],
   "source": [
    "strplaces #sólo hay cinco lugares distintos"
   ]
  },
  {
   "cell_type": "code",
   "execution_count": 43,
   "metadata": {},
   "outputs": [
    {
     "name": "stdout",
     "output_type": "stream",
     "text": [
      "\n",
      "PREFIX bibo: <http://purl.org/ontology/bibo/>\n",
      "SELECT ?idgeonames ?lat ?lon ?x ?xLabel \n",
      "WHERE { \n",
      "  values ?idgeonames {  \"1269750\" \"2921044\" \"6251999\" \"6252001\" \"6269131\" } \n",
      "  ?x wdt:P1566 ?idgeonames ; \n",
      "   p:P625 [\n",
      "     psv:P625 [\n",
      "       wikibase:geoLatitude ?lat ;\n",
      "       wikibase:geoLongitude ?lon ;\n",
      "       wikibase:geoGlobe ?globe ;\n",
      "     ];\n",
      "     ps:P625 ?coord\n",
      "   ]\n",
      "   SERVICE wikibase:label { bd:serviceParam wikibase:language \"[AUTO_LANGUAGE],en\". }\n",
      "}\n",
      "\n"
     ]
    }
   ],
   "source": [
    "url = 'https://query.wikidata.org/sparql'\n",
    "query = \"\"\"\n",
    "PREFIX bibo: <http://purl.org/ontology/bibo/>\n",
    "SELECT ?idgeonames ?lat ?lon ?x ?xLabel \n",
    "WHERE {{ \n",
    "  values ?idgeonames {{ {0} }} \n",
    "  ?x wdt:P1566 ?idgeonames ; \n",
    "   p:P625 [\n",
    "     psv:P625 [\n",
    "       wikibase:geoLatitude ?lat ;\n",
    "       wikibase:geoLongitude ?lon ;\n",
    "       wikibase:geoGlobe ?globe ;\n",
    "     ];\n",
    "     ps:P625 ?coord\n",
    "   ]\n",
    "   SERVICE wikibase:label {{ bd:serviceParam wikibase:language \"[AUTO_LANGUAGE],en\". }}\n",
    "}}\n",
    "\"\"\"\n",
    "\n",
    "query = query.format(strplaces) #aquí se metieron los ids únicos de geonames que en el paso anterior\n",
    "print(query)\n",
    "\n",
    "# use json as a result\n",
    "r = requests.get(url, params = {'format': 'json', 'query': query})\n",
    "geopoints = r.json()"
   ]
  },
  {
   "cell_type": "code",
   "execution_count": 44,
   "metadata": {},
   "outputs": [
    {
     "name": "stdout",
     "output_type": "stream",
     "text": [
      "51.0 10.0\n",
      "38.895 -77.036666666667\n",
      "22.0 77.0\n",
      "53.0 -1.0\n",
      "56.0 -109.0\n"
     ]
    }
   ],
   "source": [
    "map = folium.Map(location=[0,0], zoom_start=1.5)\n",
    "\n",
    "for geo in geopoints['results']['bindings']:\n",
    "    idwikidata = geo['x']['value']\n",
    "    lat = geo['lat']['value']\n",
    "    lon = geo['lon']['value']\n",
    "    idgeonames = geo['idgeonames']['value']\n",
    "    label = geo['xLabel']['value']\n",
    "    print(lat, lon)\n",
    "    \n",
    "    # adding a text to the popup\n",
    "    count = places_by_number[['http://sws.geonames.org/' + idgeonames + '/']][0]\n",
    "    popup = str(count) + \" records published in <a hreh='\" + str(idwikidata) + \"'>\" + label + \"</a>\"\n",
    "    \n",
    "    folium.Marker([lat,lon], popup= popup).add_to(map)"
   ]
  },
  {
   "cell_type": "code",
   "execution_count": 45,
   "metadata": {},
   "outputs": [
    {
     "data": {
      "text/html": [
       "<div style=\"width:100%;\"><div style=\"position:relative;width:100%;height:0;padding-bottom:60%;\"><span style=\"color:#565656\">Make this Notebook Trusted to load map: File -> Trust Notebook</span><iframe src=\"about:blank\" style=\"position:absolute;width:100%;height:100%;left:0;top:0;border:none !important;\" data-html=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 onload=\"this.contentDocument.open();this.contentDocument.write(atob(this.getAttribute('data-html')));this.contentDocument.close();\" allowfullscreen webkitallowfullscreen mozallowfullscreen></iframe></div></div>"
      ],
      "text/plain": [
       "<folium.folium.Map at 0x1eb4eaf1a08>"
      ]
     },
     "execution_count": 45,
     "metadata": {},
     "output_type": "execute_result"
    }
   ],
   "source": [
    "map"
   ]
  }
 ],
 "metadata": {
  "kernelspec": {
   "display_name": "Python 3",
   "language": "python",
   "name": "python3"
  },
  "language_info": {
   "codemirror_mode": {
    "name": "ipython",
    "version": 3
   },
   "file_extension": ".py",
   "mimetype": "text/x-python",
   "name": "python",
   "nbconvert_exporter": "python",
   "pygments_lexer": "ipython3",
   "version": "3.7.6"
  }
 },
 "nbformat": 4,
 "nbformat_minor": 4
}
